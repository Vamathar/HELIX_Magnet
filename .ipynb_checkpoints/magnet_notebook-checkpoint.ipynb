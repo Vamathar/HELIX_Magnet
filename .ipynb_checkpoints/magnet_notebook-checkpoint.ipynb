{
 "cells": [
  {
   "cell_type": "code",
   "execution_count": 1,
   "metadata": {},
   "outputs": [],
   "source": [
    "import ipyvolume.pylab as p3\n",
    "import matplotlib.pyplot as plt\n",
    "import pandas as pd\n",
    "import numpy as np"
   ]
  },
  {
   "cell_type": "code",
   "execution_count": 4,
   "metadata": {},
   "outputs": [],
   "source": [
    "measured_filename = \"measured_field.csv\"\n",
    "calculated_filename = \"calculated_field.csv\""
   ]
  },
  {
   "cell_type": "code",
   "execution_count": 8,
   "metadata": {},
   "outputs": [],
   "source": [
    "measured_df = pd.read_csv(measured_filename,header=None)\n",
    "calculated_df = pd.read_csv(calculated_filename,header=None)"
   ]
  },
  {
   "cell_type": "code",
   "execution_count": 10,
   "metadata": {},
   "outputs": [
    {
     "data": {
      "text/plain": [
       "0       -0.278892\n",
       "1       -0.278892\n",
       "2       -0.278892\n",
       "3       -0.278892\n",
       "4       -0.278892\n",
       "5       -0.278892\n",
       "6       -0.278892\n",
       "7       -0.278892\n",
       "8       -0.278892\n",
       "9       -0.278892\n",
       "10      -0.278892\n",
       "11      -0.278892\n",
       "12      -0.278892\n",
       "13      -0.278892\n",
       "14      -0.278892\n",
       "15      -0.278892\n",
       "16      -0.278892\n",
       "17      -0.278892\n",
       "18      -0.278892\n",
       "19      -0.278892\n",
       "20      -0.278892\n",
       "21      -0.278892\n",
       "22      -0.278892\n",
       "23      -0.278892\n",
       "24      -0.278892\n",
       "25      -0.278892\n",
       "26      -0.278892\n",
       "27      -0.278892\n",
       "28      -0.278892\n",
       "29      -0.278892\n",
       "           ...   \n",
       "16443   -0.772668\n",
       "16444   -0.772668\n",
       "16445   -0.772668\n",
       "16446   -0.772668\n",
       "16447   -0.772668\n",
       "16448   -0.772668\n",
       "16449   -0.772668\n",
       "16450   -0.772668\n",
       "16451   -0.772668\n",
       "16452   -0.772668\n",
       "16453   -0.772668\n",
       "16454   -0.772668\n",
       "16455   -0.772668\n",
       "16456   -0.772668\n",
       "16457   -0.772668\n",
       "16458   -0.772668\n",
       "16459   -0.772668\n",
       "16460   -0.772668\n",
       "16461   -0.772668\n",
       "16462   -0.772668\n",
       "16463   -0.772668\n",
       "16464   -0.772668\n",
       "16465   -0.772668\n",
       "16466   -0.772668\n",
       "16467   -0.772668\n",
       "16468   -0.772668\n",
       "16469   -0.772668\n",
       "16470   -0.772668\n",
       "16471   -0.772668\n",
       "16472   -0.772668\n",
       "Name: 0, Length: 16473, dtype: float64"
      ]
     },
     "execution_count": 10,
     "metadata": {},
     "output_type": "execute_result"
    }
   ],
   "source": [
    "measured_df[0]"
   ]
  },
  {
   "cell_type": "code",
   "execution_count": null,
   "metadata": {},
   "outputs": [],
   "source": []
  }
 ],
 "metadata": {
  "kernelspec": {
   "display_name": "Python 3",
   "language": "python",
   "name": "python3"
  },
  "language_info": {
   "codemirror_mode": {
    "name": "ipython",
    "version": 3
   },
   "file_extension": ".py",
   "mimetype": "text/x-python",
   "name": "python",
   "nbconvert_exporter": "python",
   "pygments_lexer": "ipython3",
   "version": "3.6.4"
  }
 },
 "nbformat": 4,
 "nbformat_minor": 2
}
