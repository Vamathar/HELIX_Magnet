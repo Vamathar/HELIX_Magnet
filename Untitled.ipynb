{
 "cells": [
  {
   "cell_type": "code",
   "execution_count": 1,
   "metadata": {},
   "outputs": [
    {
     "name": "stdout",
     "output_type": "stream",
     "text": [
      "rm -f src/*.o  HELIX_MAGNET\n",
      "g++ -c -Iinclude -lgsl -lgslcblas -std=c++11 src/helix_magnet.cpp -o src/helix_magnet.o\n",
      "g++ -c -Iinclude -lgsl -lgslcblas -std=c++11 src/coil.cpp -o src/coil.o\n",
      "g++ -c -Iinclude -lgsl -lgslcblas -std=c++11 src/main.cpp -o src/main.o\n",
      "g++ -o HELIX_MAGNET src/helix_magnet.o src/coil.o src/main.o -Iinclude -lgsl -lgslcblas -std=c++11\n"
     ]
    }
   ],
   "source": [
    "%%bash\n",
    "make clean\n",
    "make"
   ]
  },
  {
   "cell_type": "code",
   "execution_count": 2,
   "metadata": {},
   "outputs": [],
   "source": [
    "import ipyvolume.pylab as p3\n",
    "import matplotlib.pyplot as plt\n",
    "import pandas as pd\n",
    "import numpy as np"
   ]
  },
  {
   "cell_type": "code",
   "execution_count": 3,
   "metadata": {},
   "outputs": [
    {
     "name": "stdout",
     "output_type": "stream",
     "text": [
      "Loaded 16473 points from data/test_scan_18x18x20_wbuffer2.csv ...\n",
      "Loaded magnet data from magnet_config.csv ...\n",
      "Note: thermal contraction applied to coil sizes and displacements.\n",
      "Thermal contraction of copper = 0.99674\n",
      "Thermal contraction of aluminum = 0.99585\n",
      "------Coil 0------\n",
      "Current = 93 A\n",
      "Width = 0.0755708 m\n",
      "Rotation Angle = 0 radians\n",
      "Rotation Axis = (1, 0, 0) \n",
      "Origin = (0, 0, -0.356761) \n",
      "Subcoil:       0              1              2              \n",
      "Turns:         1995.9         5150           5489.5         \n",
      "Inner Radius:  0.202854       0.21431        0.233867       \n",
      "Outer Radius:  0.21431        0.233867       0.254392       \n",
      "Rho Divisions: 8              8              8              \n",
      "Z Divisions:   52             32             32             \n",
      "------Coil 1------\n",
      "Current = 93 A\n",
      "Width = 0.0755708 m\n",
      "Rotation Angle = 0 radians\n",
      "Rotation Axis = (1, 0, 0) \n",
      "Origin = (0, 0, 0.359747) \n",
      "Subcoil:       0              1              2              \n",
      "Turns:         1976           5110           5486.7         \n",
      "Inner Radius:  0.202829       0.214032       0.233944       \n",
      "Outer Radius:  0.214031       0.233944       0.255387       \n",
      "Rho Divisions: 8              8              8              \n",
      "Z Divisions:   52             32             32             \n",
      "CALCULATING FIELD FOR 16473 POINTS\n",
      "16473 points remaining...\n",
      "15973 points remaining...\n",
      "15473 points remaining...\n",
      "14973 points remaining...\n",
      "14473 points remaining...\n",
      "13973 points remaining...\n",
      "13473 points remaining...\n",
      "12973 points remaining...\n",
      "12473 points remaining...\n",
      "11973 points remaining...\n",
      "11473 points remaining...\n",
      "10973 points remaining...\n",
      "10473 points remaining...\n",
      "9973 points remaining...\n",
      "9473 points remaining...\n",
      "8973 points remaining...\n",
      "8473 points remaining...\n",
      "7973 points remaining...\n",
      "7473 points remaining...\n",
      "6973 points remaining...\n",
      "6473 points remaining...\n",
      "5973 points remaining...\n",
      "5473 points remaining...\n",
      "4973 points remaining...\n",
      "4473 points remaining...\n",
      "3973 points remaining...\n",
      "3473 points remaining...\n",
      "2973 points remaining...\n",
      "2473 points remaining...\n",
      "1973 points remaining...\n",
      "1473 points remaining...\n",
      "973 points remaining...\n",
      "473 points remaining...\n",
      "Measured field output file: measured_field.csv\n",
      "Calculated field output file: calculated_field.csv\n"
     ]
    }
   ],
   "source": [
    "%%bash\n",
    "./HELIX_MAGNET magnet_config.csv data/test_scan_18x18x20_wbuffer2.csv"
   ]
  },
  {
   "cell_type": "code",
   "execution_count": 4,
   "metadata": {},
   "outputs": [],
   "source": [
    "measured_filename = \"measured_field.csv\"\n",
    "calculated_filename = \"calculated_field.csv\"\n",
    "measured_df = pd.read_csv(measured_filename,header=None)\n",
    "calculated_df = pd.read_csv(calculated_filename,header=None)"
   ]
  },
  {
   "cell_type": "code",
   "execution_count": 5,
   "metadata": {},
   "outputs": [
    {
     "data": {
      "application/vnd.jupyter.widget-view+json": {
       "model_id": "550c4d82b2fd41bdad2fc3cc147a175b",
       "version_major": 2,
       "version_minor": 0
      },
      "text/html": [
       "<p>Failed to display Jupyter Widget of type <code>VBox</code>.</p>\n",
       "<p>\n",
       "  If you're reading this message in the Jupyter Notebook or JupyterLab Notebook, it may mean\n",
       "  that the widgets JavaScript is still loading. If this message persists, it\n",
       "  likely means that the widgets JavaScript library is either not installed or\n",
       "  not enabled. See the <a href=\"https://ipywidgets.readthedocs.io/en/stable/user_install.html\">Jupyter\n",
       "  Widgets Documentation</a> for setup instructions.\n",
       "</p>\n",
       "<p>\n",
       "  If you're reading this message in another frontend (for example, a static\n",
       "  rendering on GitHub or <a href=\"https://nbviewer.jupyter.org/\">NBViewer</a>),\n",
       "  it may mean that your frontend doesn't currently support widgets.\n",
       "</p>\n"
      ],
      "text/plain": [
       "VBox(children=(Figure(camera_center=[0.0, 0.0, 0.0], height=500, matrix_projection=[0.0, 0.0, 0.0, 0.0, 0.0, 0.0, 0.0, 0.0, 0.0, 0.0, 0.0, 0.0, 0.0, 0.0, 0.0, 0.0], matrix_world=[0.0, 0.0, 0.0, 0.0, 0.0, 0.0, 0.0, 0.0, 0.0, 0.0, 0.0, 0.0, 0.0, 0.0, 0.0, 0.0], scatters=[Scatter(color_selected=array('white', dtype='<U5'), geo='arrow', size=array(3), size_selected=array(26.), vx=array([-0.23437, -0.23437, -0.23437, ..., -0.4419 , -0.4457 , -0.4459 ]), vy=array([-0.09038, -0.09038, -0.09039, ..., -0.4568 , -0.4571 , -0.457  ]), vz=array([0.361 , 0.361 , 0.361 , ..., 0.6311, 0.6326, 0.6323]), x=array([-0.181637, -0.181637, -0.181637, ...,  0.176661,  0.176661,\n",
       "        0.176661]), y=array([-0.193386, -0.193386, -0.193386, ...,  0.153919,  0.153919,\n",
       "        0.153919]), z=array([ 0.267462,  0.267462,  0.267462, ..., -0.226314, -0.226314,\n",
       "       -0.226314]))], style={'axes': {'visible': True, 'label': {'color': 'black'}, 'ticklabel': {'color': 'black'}, 'color': 'black'}, 'box': {'visible': True}, 'background-color': 'white'}, tf=None, width=400, xlim=[-0.181637, 0.17666099999999998], ylim=[-0.193386, 0.153919], zlim=[-0.226314, 0.267462]),))"
      ]
     },
     "metadata": {},
     "output_type": "display_data"
    }
   ],
   "source": [
    "p3.figure()\n",
    "p3.xlim(measured_df[0].min(),measured_df[0].max())\n",
    "p3.ylim(measured_df[1].min(),measured_df[1].max())\n",
    "p3.zlim(measured_df[2].min(),measured_df[2].max())\n",
    "p3.quiver(measured_df[0],measured_df[1],measured_df[2],measured_df[3],measured_df[4],measured_df[5],size=3)\n",
    "p3.show()"
   ]
  },
  {
   "cell_type": "code",
   "execution_count": 6,
   "metadata": {},
   "outputs": [
    {
     "data": {
      "application/vnd.jupyter.widget-view+json": {
       "model_id": "2a0605ea0a414ed0ac006f18e5893195",
       "version_major": 2,
       "version_minor": 0
      },
      "text/html": [
       "<p>Failed to display Jupyter Widget of type <code>VBox</code>.</p>\n",
       "<p>\n",
       "  If you're reading this message in the Jupyter Notebook or JupyterLab Notebook, it may mean\n",
       "  that the widgets JavaScript is still loading. If this message persists, it\n",
       "  likely means that the widgets JavaScript library is either not installed or\n",
       "  not enabled. See the <a href=\"https://ipywidgets.readthedocs.io/en/stable/user_install.html\">Jupyter\n",
       "  Widgets Documentation</a> for setup instructions.\n",
       "</p>\n",
       "<p>\n",
       "  If you're reading this message in another frontend (for example, a static\n",
       "  rendering on GitHub or <a href=\"https://nbviewer.jupyter.org/\">NBViewer</a>),\n",
       "  it may mean that your frontend doesn't currently support widgets.\n",
       "</p>\n"
      ],
      "text/plain": [
       "VBox(children=(Figure(camera_center=[0.0, 0.0, 0.0], height=500, matrix_projection=[0.0, 0.0, 0.0, 0.0, 0.0, 0.0, 0.0, 0.0, 0.0, 0.0, 0.0, 0.0, 0.0, 0.0, 0.0, 0.0], matrix_world=[0.0, 0.0, 0.0, 0.0, 0.0, 0.0, 0.0, 0.0, 0.0, 0.0, 0.0, 0.0, 0.0, 0.0, 0.0, 0.0], scatters=[Scatter(color_selected=array('white', dtype='<U5'), geo='arrow', size=array(3), size_selected=array(26.), vx=array([1.22827, 1.22827, 1.22827, ..., 1.04208, 1.04208, 1.04208]), vy=array([1.30771 , 1.30771 , 1.30771 , ..., 0.907929, 0.907929, 0.907929]), vz=array([0.173521, 0.173521, 0.173521, ..., 0.864315, 0.864315, 0.864315]), x=array([-0.181637, -0.181637, -0.181637, ...,  0.176661,  0.176661,\n",
       "        0.176661]), y=array([-0.193386, -0.193386, -0.193386, ...,  0.153919,  0.153919,\n",
       "        0.153919]), z=array([ 0.267462,  0.267462,  0.267462, ..., -0.226314, -0.226314,\n",
       "       -0.226314]))], style={'axes': {'visible': True, 'label': {'color': 'black'}, 'ticklabel': {'color': 'black'}, 'color': 'black'}, 'box': {'visible': True}, 'background-color': 'white'}, tf=None, width=400, xlim=[-0.181637, 0.17666099999999998], ylim=[-0.193386, 0.153919], zlim=[-0.226314, 0.267462]),))"
      ]
     },
     "metadata": {},
     "output_type": "display_data"
    }
   ],
   "source": [
    "p3.figure()\n",
    "p3.xlim(calculated_df[0].min(),calculated_df[0].max())\n",
    "p3.ylim(calculated_df[1].min(),calculated_df[1].max())\n",
    "p3.zlim(calculated_df[2].min(),calculated_df[2].max())\n",
    "p3.quiver(calculated_df[0],calculated_df[1],calculated_df[2],calculated_df[3],calculated_df[4],calculated_df[5],size=3)\n",
    "p3.show()"
   ]
  },
  {
   "cell_type": "code",
   "execution_count": null,
   "metadata": {},
   "outputs": [],
   "source": []
  }
 ],
 "metadata": {
  "kernelspec": {
   "display_name": "Python 3",
   "language": "python",
   "name": "python3"
  },
  "language_info": {
   "codemirror_mode": {
    "name": "ipython",
    "version": 3
   },
   "file_extension": ".py",
   "mimetype": "text/x-python",
   "name": "python",
   "nbconvert_exporter": "python",
   "pygments_lexer": "ipython3",
   "version": "3.6.4"
  }
 },
 "nbformat": 4,
 "nbformat_minor": 2
}
