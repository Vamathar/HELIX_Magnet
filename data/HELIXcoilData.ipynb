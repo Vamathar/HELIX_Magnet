{
 "cells": [
  {
   "cell_type": "code",
   "execution_count": 21,
   "metadata": {
    "collapsed": true
   },
   "outputs": [],
   "source": [
    "import numpy as np\n",
    "import pandas as pd"
   ]
  },
  {
   "cell_type": "code",
   "execution_count": 22,
   "metadata": {},
   "outputs": [
    {
     "data": {
      "text/html": [
       "<div>\n",
       "<style>\n",
       "    .dataframe thead tr:only-child th {\n",
       "        text-align: right;\n",
       "    }\n",
       "\n",
       "    .dataframe thead th {\n",
       "        text-align: left;\n",
       "    }\n",
       "\n",
       "    .dataframe tbody tr th {\n",
       "        vertical-align: top;\n",
       "    }\n",
       "</style>\n",
       "<table border=\"1\" class=\"dataframe\">\n",
       "  <thead>\n",
       "    <tr style=\"text-align: right;\">\n",
       "      <th></th>\n",
       "      <th>Current</th>\n",
       "      <th>CuComp</th>\n",
       "      <th>AlComp</th>\n",
       "    </tr>\n",
       "  </thead>\n",
       "  <tbody>\n",
       "    <tr>\n",
       "      <th>0</th>\n",
       "      <td>93.0</td>\n",
       "      <td>0.99674</td>\n",
       "      <td>0.99585</td>\n",
       "    </tr>\n",
       "  </tbody>\n",
       "</table>\n",
       "</div>"
      ],
      "text/plain": [
       "   Current   CuComp   AlComp\n",
       "0     93.0  0.99674  0.99585"
      ]
     },
     "execution_count": 22,
     "metadata": {},
     "output_type": "execute_result"
    }
   ],
   "source": [
    "# Make general dataframe\n",
    "general_names = 'Current CuComp AlComp'\n",
    "general_attr = [93.0,0.99674,0.99585]\n",
    "general_df = pd.DataFrame([general_attr],columns=general_names.split())\n",
    "general_df.to_csv('GeneralData.csv')\n",
    "general_df"
   ]
  },
  {
   "cell_type": "code",
   "execution_count": 23,
   "metadata": {},
   "outputs": [
    {
     "data": {
      "text/html": [
       "<div>\n",
       "<style>\n",
       "    .dataframe thead tr:only-child th {\n",
       "        text-align: right;\n",
       "    }\n",
       "\n",
       "    .dataframe thead th {\n",
       "        text-align: left;\n",
       "    }\n",
       "\n",
       "    .dataframe tbody tr th {\n",
       "        vertical-align: top;\n",
       "    }\n",
       "</style>\n",
       "<table border=\"1\" class=\"dataframe\">\n",
       "  <thead>\n",
       "    <tr style=\"text-align: right;\">\n",
       "      <th></th>\n",
       "      <th>Width</th>\n",
       "      <th>X</th>\n",
       "      <th>Y</th>\n",
       "      <th>Z</th>\n",
       "      <th>Theta</th>\n",
       "      <th>Phi</th>\n",
       "    </tr>\n",
       "    <tr>\n",
       "      <th>Coil</th>\n",
       "      <th></th>\n",
       "      <th></th>\n",
       "      <th></th>\n",
       "      <th></th>\n",
       "      <th></th>\n",
       "      <th></th>\n",
       "    </tr>\n",
       "  </thead>\n",
       "  <tbody>\n",
       "    <tr>\n",
       "      <th>A</th>\n",
       "      <td>0.075818</td>\n",
       "      <td>0.0</td>\n",
       "      <td>0.0</td>\n",
       "      <td>-0.359747</td>\n",
       "      <td>0.0</td>\n",
       "      <td>0.0</td>\n",
       "    </tr>\n",
       "    <tr>\n",
       "      <th>B</th>\n",
       "      <td>0.075818</td>\n",
       "      <td>0.0</td>\n",
       "      <td>0.0</td>\n",
       "      <td>0.359747</td>\n",
       "      <td>0.0</td>\n",
       "      <td>0.0</td>\n",
       "    </tr>\n",
       "  </tbody>\n",
       "</table>\n",
       "</div>"
      ],
      "text/plain": [
       "         Width    X    Y         Z  Theta  Phi\n",
       "Coil                                          \n",
       "A     0.075818  0.0  0.0 -0.359747    0.0  0.0\n",
       "B     0.075818  0.0  0.0  0.359747    0.0  0.0"
      ]
     },
     "execution_count": 23,
     "metadata": {},
     "output_type": "execute_result"
    }
   ],
   "source": [
    "# Make dataframe for coils\n",
    "coil_names = 'A B'\n",
    "coil_attr = 'Width X Y Z Theta Phi'\n",
    "coil_a = [.075818,0.,0.,-.359747,0.,0.]\n",
    "coil_b = [.075818,0.,0.,.359747,0.,0.]\n",
    "coil_df = pd.DataFrame([coil_a,coil_b],index=coil_names.split(),columns=coil_attr.split())\n",
    "coil_df.index.name = 'Coil'\n",
    "coil_df.to_csv('CoilData.csv')\n",
    "coil_df"
   ]
  },
  {
   "cell_type": "code",
   "execution_count": 24,
   "metadata": {},
   "outputs": [
    {
     "data": {
      "text/html": [
       "<div>\n",
       "<style>\n",
       "    .dataframe thead tr:only-child th {\n",
       "        text-align: right;\n",
       "    }\n",
       "\n",
       "    .dataframe thead th {\n",
       "        text-align: left;\n",
       "    }\n",
       "\n",
       "    .dataframe tbody tr th {\n",
       "        vertical-align: top;\n",
       "    }\n",
       "</style>\n",
       "<table border=\"1\" class=\"dataframe\">\n",
       "  <thead>\n",
       "    <tr style=\"text-align: right;\">\n",
       "      <th></th>\n",
       "      <th></th>\n",
       "      <th>Inner Radius</th>\n",
       "      <th>Outer Radius</th>\n",
       "      <th>Coil Turns</th>\n",
       "      <th>Nrho</th>\n",
       "      <th>Nz</th>\n",
       "    </tr>\n",
       "    <tr>\n",
       "      <th>Coil</th>\n",
       "      <th>Subcoil</th>\n",
       "      <th></th>\n",
       "      <th></th>\n",
       "      <th></th>\n",
       "      <th></th>\n",
       "      <th></th>\n",
       "    </tr>\n",
       "  </thead>\n",
       "  <tbody>\n",
       "    <tr>\n",
       "      <th rowspan=\"3\" valign=\"top\">A</th>\n",
       "      <th>1</th>\n",
       "      <td>0.203517</td>\n",
       "      <td>0.215011</td>\n",
       "      <td>1995.9</td>\n",
       "      <td>8</td>\n",
       "      <td>52</td>\n",
       "    </tr>\n",
       "    <tr>\n",
       "      <th>2</th>\n",
       "      <td>0.215011</td>\n",
       "      <td>0.234632</td>\n",
       "      <td>5150.0</td>\n",
       "      <td>8</td>\n",
       "      <td>32</td>\n",
       "    </tr>\n",
       "    <tr>\n",
       "      <th>3</th>\n",
       "      <td>0.234632</td>\n",
       "      <td>0.255224</td>\n",
       "      <td>5489.5</td>\n",
       "      <td>8</td>\n",
       "      <td>32</td>\n",
       "    </tr>\n",
       "    <tr>\n",
       "      <th rowspan=\"3\" valign=\"top\">B</th>\n",
       "      <th>1</th>\n",
       "      <td>0.203492</td>\n",
       "      <td>0.214731</td>\n",
       "      <td>1976.0</td>\n",
       "      <td>8</td>\n",
       "      <td>52</td>\n",
       "    </tr>\n",
       "    <tr>\n",
       "      <th>2</th>\n",
       "      <td>0.214732</td>\n",
       "      <td>0.234709</td>\n",
       "      <td>5110.0</td>\n",
       "      <td>8</td>\n",
       "      <td>32</td>\n",
       "    </tr>\n",
       "    <tr>\n",
       "      <th>3</th>\n",
       "      <td>0.234709</td>\n",
       "      <td>0.256222</td>\n",
       "      <td>5486.7</td>\n",
       "      <td>8</td>\n",
       "      <td>32</td>\n",
       "    </tr>\n",
       "  </tbody>\n",
       "</table>\n",
       "</div>"
      ],
      "text/plain": [
       "              Inner Radius  Outer Radius  Coil Turns  Nrho  Nz\n",
       "Coil Subcoil                                                  \n",
       "A    1            0.203517      0.215011      1995.9     8  52\n",
       "     2            0.215011      0.234632      5150.0     8  32\n",
       "     3            0.234632      0.255224      5489.5     8  32\n",
       "B    1            0.203492      0.214731      1976.0     8  52\n",
       "     2            0.214732      0.234709      5110.0     8  32\n",
       "     3            0.234709      0.256222      5486.7     8  32"
      ]
     },
     "execution_count": 24,
     "metadata": {},
     "output_type": "execute_result"
    }
   ],
   "source": [
    "# Make dataframe for subcoils\n",
    "coil_hier1 = 'A A A B B B'.split()\n",
    "coil_hier2 = [1,2,3,1,2,3]\n",
    "subcoil_index = list(zip(coil_hier1,coil_hier2))\n",
    "subcoil_index = pd.MultiIndex.from_tuples(subcoil_index)\n",
    "subcoil_columns = [\"Inner Radius\",\"Outer Radius\",\"Coil Turns\",\"Nrho\",\"Nz\"]\n",
    "sc_a1 = [.203517,.215011,1995.9,8,52]\n",
    "sc_a2 = [.215011,.234632,5150.,8,32]\n",
    "sc_a3 = [.234632,.255224,5489.5,8,32]\n",
    "sc_b1 = [.203492,.214731,1976.,8,52]\n",
    "sc_b2 = [.214732,.234709,5110.,8,32]\n",
    "sc_b3 = [.234709,.256222,5486.7,8,32]\n",
    "subcoil_df = pd.DataFrame([sc_a1,sc_a2,sc_a3,sc_b1,sc_b2,sc_b3],index=subcoil_index,columns=subcoil_columns)\n",
    "subcoil_df.index.names = ['Coil','Subcoil']\n",
    "subcoil_df.to_csv('SubcoilData.csv')\n",
    "subcoil_df"
   ]
  },
  {
   "cell_type": "code",
   "execution_count": 7,
   "metadata": {},
   "outputs": [
    {
     "data": {
      "text/plain": [
       "[0.203517, 0.215011, 0.234632, 0.203492, 0.214732, 0.234709]"
      ]
     },
     "execution_count": 7,
     "metadata": {},
     "output_type": "execute_result"
    }
   ],
   "source": [
    "subcoil_df['Inner Radius'].tolist()"
   ]
  },
  {
   "cell_type": "code",
   "execution_count": 8,
   "metadata": {
    "collapsed": true
   },
   "outputs": [],
   "source": [
    "X1 = coil_df.X.tolist()"
   ]
  },
  {
   "cell_type": "code",
   "execution_count": 9,
   "metadata": {},
   "outputs": [
    {
     "data": {
      "text/plain": [
       "[0.0, 0.0]"
      ]
     },
     "execution_count": 9,
     "metadata": {},
     "output_type": "execute_result"
    }
   ],
   "source": [
    "X1"
   ]
  },
  {
   "cell_type": "code",
   "execution_count": 10,
   "metadata": {
    "collapsed": true
   },
   "outputs": [],
   "source": [
    "scldat = pd.read_csv('SubcoilData.csv')"
   ]
  },
  {
   "cell_type": "code",
   "execution_count": 11,
   "metadata": {},
   "outputs": [
    {
     "data": {
      "text/html": [
       "<div>\n",
       "<style>\n",
       "    .dataframe thead tr:only-child th {\n",
       "        text-align: right;\n",
       "    }\n",
       "\n",
       "    .dataframe thead th {\n",
       "        text-align: left;\n",
       "    }\n",
       "\n",
       "    .dataframe tbody tr th {\n",
       "        vertical-align: top;\n",
       "    }\n",
       "</style>\n",
       "<table border=\"1\" class=\"dataframe\">\n",
       "  <thead>\n",
       "    <tr style=\"text-align: right;\">\n",
       "      <th></th>\n",
       "      <th>Coil</th>\n",
       "      <th>Subcoil</th>\n",
       "      <th>Inner Radius</th>\n",
       "      <th>Outer Radius</th>\n",
       "      <th>Coil Turns</th>\n",
       "      <th>Nrho</th>\n",
       "      <th>Nz</th>\n",
       "    </tr>\n",
       "  </thead>\n",
       "  <tbody>\n",
       "    <tr>\n",
       "      <th>0</th>\n",
       "      <td>A</td>\n",
       "      <td>1</td>\n",
       "      <td>0.203517</td>\n",
       "      <td>0.215011</td>\n",
       "      <td>1995.9</td>\n",
       "      <td>8</td>\n",
       "      <td>52</td>\n",
       "    </tr>\n",
       "    <tr>\n",
       "      <th>1</th>\n",
       "      <td>A</td>\n",
       "      <td>2</td>\n",
       "      <td>0.215011</td>\n",
       "      <td>0.234632</td>\n",
       "      <td>5150.0</td>\n",
       "      <td>8</td>\n",
       "      <td>32</td>\n",
       "    </tr>\n",
       "    <tr>\n",
       "      <th>2</th>\n",
       "      <td>A</td>\n",
       "      <td>3</td>\n",
       "      <td>0.234632</td>\n",
       "      <td>0.255224</td>\n",
       "      <td>5489.5</td>\n",
       "      <td>8</td>\n",
       "      <td>32</td>\n",
       "    </tr>\n",
       "    <tr>\n",
       "      <th>3</th>\n",
       "      <td>B</td>\n",
       "      <td>1</td>\n",
       "      <td>0.203492</td>\n",
       "      <td>0.214731</td>\n",
       "      <td>1976.0</td>\n",
       "      <td>8</td>\n",
       "      <td>52</td>\n",
       "    </tr>\n",
       "    <tr>\n",
       "      <th>4</th>\n",
       "      <td>B</td>\n",
       "      <td>2</td>\n",
       "      <td>0.214732</td>\n",
       "      <td>0.234709</td>\n",
       "      <td>5110.0</td>\n",
       "      <td>8</td>\n",
       "      <td>32</td>\n",
       "    </tr>\n",
       "    <tr>\n",
       "      <th>5</th>\n",
       "      <td>B</td>\n",
       "      <td>3</td>\n",
       "      <td>0.234709</td>\n",
       "      <td>0.256222</td>\n",
       "      <td>5486.7</td>\n",
       "      <td>8</td>\n",
       "      <td>32</td>\n",
       "    </tr>\n",
       "  </tbody>\n",
       "</table>\n",
       "</div>"
      ],
      "text/plain": [
       "  Coil  Subcoil  Inner Radius  Outer Radius  Coil Turns  Nrho  Nz\n",
       "0    A        1      0.203517      0.215011      1995.9     8  52\n",
       "1    A        2      0.215011      0.234632      5150.0     8  32\n",
       "2    A        3      0.234632      0.255224      5489.5     8  32\n",
       "3    B        1      0.203492      0.214731      1976.0     8  52\n",
       "4    B        2      0.214732      0.234709      5110.0     8  32\n",
       "5    B        3      0.234709      0.256222      5486.7     8  32"
      ]
     },
     "execution_count": 11,
     "metadata": {},
     "output_type": "execute_result"
    }
   ],
   "source": [
    "scldat"
   ]
  },
  {
   "cell_type": "code",
   "execution_count": 12,
   "metadata": {
    "collapsed": true
   },
   "outputs": [],
   "source": [
    "coil = scldat['Coil']\n",
    "subcoil = scldat['Subcoil']\n"
   ]
  }
 ],
 "metadata": {
  "kernelspec": {
   "display_name": "Python 3",
   "language": "python",
   "name": "python3"
  },
  "language_info": {
   "codemirror_mode": {
    "name": "ipython",
    "version": 3
   },
   "file_extension": ".py",
   "mimetype": "text/x-python",
   "name": "python",
   "nbconvert_exporter": "python",
   "pygments_lexer": "ipython3",
   "version": "3.6.1"
  }
 },
 "nbformat": 4,
 "nbformat_minor": 2
}
