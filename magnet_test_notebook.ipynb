{
 "cells": [
  {
   "cell_type": "code",
   "execution_count": 1,
   "metadata": {},
   "outputs": [
    {
     "name": "stdout",
     "output_type": "stream",
     "text": [
      "rm -f src/*.o  test_cpp\n",
      "rm -f heatsrc/*.o  test_f\n"
     ]
    }
   ],
   "source": [
    "%%bash\n",
    "make -f Makefile.ctest clean\n",
    "make -f Makefile.ftest clean"
   ]
  },
  {
   "cell_type": "code",
   "execution_count": 2,
   "metadata": {},
   "outputs": [
    {
     "name": "stdout",
     "output_type": "stream",
     "text": [
      "g++ -c -Iinclude -lgsl -lgslcblas -std=c++11 src/helix_magnet.cpp -o src/helix_magnet.o\n",
      "g++ -c -Iinclude -lgsl -lgslcblas -std=c++11 src/coil.cpp -o src/coil.o\n",
      "g++ -c -Iinclude -lgsl -lgslcblas -std=c++11 src/test.cpp -o src/test.o\n",
      "g++ -o test_cpp src/helix_magnet.o src/coil.o src/test.o -Iinclude -lgsl -lgslcblas -std=c++11\n",
      "gfortran -o test_f heatsrc/heat_mag.f90 heatsrc/test.f90\n"
     ]
    }
   ],
   "source": [
    "%%bash\n",
    "make -f Makefile.ctest\n",
    "make -f Makefile.ftest"
   ]
  },
  {
   "cell_type": "code",
   "execution_count": 4,
   "metadata": {},
   "outputs": [
    {
     "name": "stdout",
     "output_type": "stream",
     "text": [
      " Single coil test:\n",
      "\n",
      "     ( X  Y  Z) = (  0.0000E+00  0.0000E+00  1.0000E-01)\n",
      "     (BX BY BZ) = (  0.0000E+00  0.0000E+00  1.8467E-04)\n",
      "\n",
      "     ( X  Y  Z) = (  5.0000E-02  7.0000E-02  1.0000E-01)\n",
      "     (BX BY BZ) = (  2.0888E-05  2.9243E-05  1.8849E-04)\n",
      "\n",
      " Full magnet test:\n",
      "\n",
      "     ( X  Y  Z) = (  0.0000E+00  0.0000E+00  1.0000E-01)\n",
      "     (BX BY BZ) = (  0.0000E+00  0.0000E+00  1.2338E+00)\n",
      "\n",
      "     ( X  Y  Z) = (  5.0000E-02  7.0000E-02  1.0000E-01)\n",
      "     (BX BY BZ) = ( -1.0882E-01 -1.5235E-01  1.1384E+00)\n"
     ]
    }
   ],
   "source": [
    "%%bash\n",
    "./test_f"
   ]
  },
  {
   "cell_type": "code",
   "execution_count": 3,
   "metadata": {
    "scrolled": false
   },
   "outputs": [
    {
     "name": "stdout",
     "output_type": "stream",
     "text": [
      "Single coil test:\n",
      "\n",
      "\t( X  Y  Z) = ( 0.0000e+00  0.0000e+00  1.0000e-01 )\n",
      "\t(BX BY BZ) = ( 0.0000e+00  0.0000e+00  1.8467e-04 )\n",
      "\n",
      "\t( X  Y  Z) = ( 5.0000e-02  7.0000e-02  1.0000e-01 )\n",
      "\t(BX BY BZ) = ( 2.0888e-05  2.9243e-05  1.8849e-04 )\n",
      "\n",
      "Full magnet test, no change in coil position:\n",
      "\n",
      "\t( X  Y  Z) = ( 0.0000e+00  0.0000e+00  1.0000e-01 )\n",
      "\t(BX BY BZ) = ( 0.0000e+00  0.0000e+00  1.2338e+00 )\n",
      "\n",
      "\t( X  Y  Z) = ( 5.0000e-02  7.0000e-02  1.0000e-01 )\n",
      "\t(BX BY BZ) = ( -1.0882e-01  -1.5235e-01  1.1384e+00 )\n",
      "\n",
      "Positioning test:\n",
      "\n",
      "\t--Rotations about the z-axis should not change the field--\n",
      "\n",
      "Note: thermal contraction applied to coil sizes and displacements.\n",
      "Thermal contraction of copper = 9.9674e-01\n",
      "Thermal contraction of aluminum = 9.9585e-01\n",
      "------Coil 0------\n",
      "-1.7321e-07 -1.0000e+00  0.0000e+00\n",
      " 1.0000e+00 -1.7321e-07  0.0000e+00\n",
      " 0.0000e+00  0.0000e+00  1.0000e+00\n",
      "Current = 9.3000e+01 A\n",
      "Width = 7.5571e-02 m\n",
      "Rotation Angle = 1.5708e+00 radians\n",
      "Rotation Axis = (0.0000e+00, 0.0000e+00, 1.0000e+00) \n",
      "Origin = (0.0000e+00, 0.0000e+00, -3.5676e-01) \n",
      "Subcoil:       0              1              2              \n",
      "Turns:         1.9959e+03     5.1500e+03     5.4895e+03     \n",
      "Inner Radius:  2.0285e-01     2.1431e-01     2.3387e-01     \n",
      "Outer Radius:  2.1431e-01     2.3387e-01     2.5469e-01     \n",
      "Rho Divisions: 8              8              8              \n",
      "Z Divisions:   52             32             32             \n",
      "------Coil 1------\n",
      "-1.7321e-07 -1.0000e+00 0.0000e+00 \n",
      "1.0000e+00  -1.7321e-07 0.0000e+00 \n",
      "0.0000e+00  0.0000e+00  1.0000e+00 \n",
      "Current = 9.3000e+01 A\n",
      "Width = 7.5571e-02 m\n",
      "Rotation Angle = 1.5708e+00 radians\n",
      "Rotation Axis = (0.0000e+00, 0.0000e+00, 1.0000e+00) \n",
      "Origin = (0.0000e+00, 0.0000e+00, 3.5975e-01) \n",
      "Subcoil:       0              1              2              \n",
      "Turns:         1.9760e+03     5.1100e+03     5.4867e+03     \n",
      "Inner Radius:  2.0283e-01     2.1403e-01     2.3394e-01     \n",
      "Outer Radius:  2.1403e-01     2.3394e-01     2.5539e-01     \n",
      "Rho Divisions: 8              8              8              \n",
      "Z Divisions:   52             32             32             \n",
      "\n",
      "\t( X  Y  Z) = ( 5.0000e-02  7.0000e-02  1.0000e-01 )\n",
      "\t(BX BY BZ) = ( -1.0882e-01  -1.5235e-01  1.1384e+00 )\n",
      "\n",
      "\t--Flipping both coils should reverse the field from its original values--\n",
      "\n",
      "Note: thermal contraction applied to coil sizes and displacements.\n",
      "Thermal contraction of copper = 9.9674e-01\n",
      "Thermal contraction of aluminum = 9.9585e-01\n",
      "------Coil 0------\n",
      "1.0000e+00  -6.0000e-14 -3.4641e-07\n",
      "6.0000e-14  -1.0000e+00 3.4641e-07 \n",
      "-3.4641e-07 -3.4641e-07 -1.0000e+00\n",
      "Current = 9.3000e+01 A\n",
      "Width = 7.5571e-02 m\n",
      "Rotation Angle = 3.1416e+00 radians\n",
      "Rotation Axis = (-1.0000e+00, -0.0000e+00, 1.7321e-07) \n",
      "Origin = (0.0000e+00, 0.0000e+00, -3.5676e-01) \n",
      "Subcoil:       0              1              2              \n",
      "Turns:         1.9959e+03     5.1500e+03     5.4895e+03     \n",
      "Inner Radius:  2.0285e-01     2.1431e-01     2.3387e-01     \n",
      "Outer Radius:  2.1431e-01     2.3387e-01     2.5469e-01     \n",
      "Rho Divisions: 8              8              8              \n",
      "Z Divisions:   52             32             32             \n",
      "------Coil 1------\n",
      "1.0000e+00  -6.0000e-14 -3.4641e-07\n",
      "6.0000e-14  -1.0000e+00 3.4641e-07 \n",
      "-3.4641e-07 -3.4641e-07 -1.0000e+00\n",
      "Current = 9.3000e+01 A\n",
      "Width = 7.5571e-02 m\n",
      "Rotation Angle = 3.1416e+00 radians\n",
      "Rotation Axis = (-1.0000e+00, -0.0000e+00, 1.7321e-07) \n",
      "Origin = (0.0000e+00, 0.0000e+00, 3.5975e-01) \n",
      "Subcoil:       0              1              2              \n",
      "Turns:         1.9760e+03     5.1100e+03     5.4867e+03     \n",
      "Inner Radius:  2.0283e-01     2.1403e-01     2.3394e-01     \n",
      "Outer Radius:  2.1403e-01     2.3394e-01     2.5539e-01     \n",
      "Rho Divisions: 8              8              8              \n",
      "Z Divisions:   52             32             32             \n",
      "\n",
      "\t( X  Y  Z) = ( 5.0000e-02  7.0000e-02  1.0000e-01 )\n",
      "\t(BX BY BZ) = ( 1.0882e-01  1.5235e-01  -1.1384e+00 )\n",
      "\n",
      "\t--Flipping only one coil should mostly negate the field near the origin--\n",
      "\n",
      "Note: thermal contraction applied to coil sizes and displacements.\n",
      "Thermal contraction of copper = 9.9674e-01\n",
      "Thermal contraction of aluminum = 9.9585e-01\n",
      "------Coil 0------\n",
      "1.0000e+00 0.0000e+00 0.0000e+00\n",
      "0.0000e+00 1.0000e+00 0.0000e+00\n",
      "0.0000e+00 0.0000e+00 1.0000e+00\n",
      "Current = 9.3000e+01 A\n",
      "Width = 7.5571e-02 m\n",
      "Rotation Angle = 0.0000e+00 radians\n",
      "Rotation Axis = (1.0000e+00, 0.0000e+00, 0.0000e+00) \n",
      "Origin = (0.0000e+00, 0.0000e+00, -3.5676e-01) \n",
      "Subcoil:       0              1              2              \n",
      "Turns:         1.9959e+03     5.1500e+03     5.4895e+03     \n",
      "Inner Radius:  2.0285e-01     2.1431e-01     2.3387e-01     \n",
      "Outer Radius:  2.1431e-01     2.3387e-01     2.5469e-01     \n",
      "Rho Divisions: 8              8              8              \n",
      "Z Divisions:   52             32             32             \n",
      "------Coil 1------\n",
      "1.0000e+00  -6.0000e-14 -3.4641e-07\n",
      "6.0000e-14  -1.0000e+00 3.4641e-07 \n",
      "-3.4641e-07 -3.4641e-07 -1.0000e+00\n",
      "Current = 9.3000e+01 A\n",
      "Width = 7.5571e-02 m\n",
      "Rotation Angle = 3.1416e+00 radians\n",
      "Rotation Axis = (-1.0000e+00, -0.0000e+00, 1.7321e-07) \n",
      "Origin = (0.0000e+00, 0.0000e+00, 3.5975e-01) \n",
      "Subcoil:       0              1              2              \n",
      "Turns:         1.9760e+03     5.1100e+03     5.4867e+03     \n",
      "Inner Radius:  2.0283e-01     2.1403e-01     2.3394e-01     \n",
      "Outer Radius:  2.1403e-01     2.3394e-01     2.5539e-01     \n",
      "Rho Divisions: 8              8              8              \n",
      "Z Divisions:   52             32             32             \n",
      "\n",
      "\t( X  Y  Z) = ( 0.0000e+00  0.0000e+00  1.4930e-03 )\n",
      "\t(BX BY BZ) = ( 1.0808e-08  -1.0808e-08  2.1978e-03 )\n"
     ]
    }
   ],
   "source": [
    "%%bash\n",
    "./test_cpp"
   ]
  },
  {
   "cell_type": "code",
   "execution_count": null,
   "metadata": {},
   "outputs": [],
   "source": []
  }
 ],
 "metadata": {
  "kernelspec": {
   "display_name": "Python 3",
   "language": "python",
   "name": "python3"
  },
  "language_info": {
   "codemirror_mode": {
    "name": "ipython",
    "version": 3
   },
   "file_extension": ".py",
   "mimetype": "text/x-python",
   "name": "python",
   "nbconvert_exporter": "python",
   "pygments_lexer": "ipython3",
   "version": "3.6.4"
  }
 },
 "nbformat": 4,
 "nbformat_minor": 2
}
